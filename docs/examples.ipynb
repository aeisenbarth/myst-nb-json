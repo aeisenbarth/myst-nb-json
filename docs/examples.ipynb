{
 "cells": [
  {
   "cell_type": "markdown",
   "id": "c095fe2d196b3295",
   "metadata": {},
   "source": [
    "# Examples\n",
    "\n",
    "A JSON-like Python dictionary renders the full Python object as `text/plain` (notice the single quotes)."
   ]
  },
  {
   "cell_type": "code",
   "id": "5fa6e511ebe825d8",
   "metadata": {},
   "source": [
    "json_dict = {\n",
    "    \"key1\": \"value1\",\n",
    "    \"key2\": {\"key21\": 42, \"key22\": True, \"key23\": None},\n",
    "    \"key3\": [\"a\", \"b\"],\n",
    "}\n",
    "json_dict"
   ],
   "outputs": [],
   "execution_count": null
  },
  {
   "cell_type": "markdown",
   "id": "33f24ef62f7364da",
   "metadata": {},
   "source": [
    "It can be wrapped in an output type, which adds the MIME type `application/json`.\n",
    "\n",
    "```python\n",
    "from IPython.display import JSON\n",
    "\n",
    "JSON(json_dict)\n",
    "```\n",
    "\n",
    "However, there are two issues with this:\n",
    "\n",
    "- Now `text/plain` is `<IPython.core.display.JSON object>`\n",
    "\n",
    "- `application/json`'s data is the original JSON, and it is left up to renderers how to represent it.\n",
    "\n",
    "## Comparison\n",
    "\n",
    "Jupyter Lab renders the following:\n",
    "\n",
    "![Screenshot of json_dict in Jupyter](./images/example1-jupyter.png)\n",
    "\n",
    "Whereas MyST-NB renders:\n",
    "\n",
    "![Screenshot of json_dict in HTML by MyST-NB](./images/example1-myst-nb.png)\n",
    "\n",
    "With `myst-nb-json`, you will get an interactive rendering that looks similar to Jupyter Lab:\n",
    "\n",
    "![Screenshot of json_dict in HTML with myst-nb-json](./images/example1-myst-nb-json.png)"
   ]
  },
  {
   "metadata": {},
   "cell_type": "markdown",
   "source": "## MyST-NB-JSON",
   "id": "c2e1a4f04d4045f1"
  },
  {
   "cell_type": "code",
   "id": "23be0ec2f8ceb03a",
   "metadata": {},
   "source": [
    "from IPython.display import JSON\n",
    "\n",
    "JSON(json_dict)"
   ],
   "outputs": [],
   "execution_count": null
  },
  {
   "cell_type": "markdown",
   "id": "cde3f57f5dd64638",
   "metadata": {},
   "source": [
    "## Expanded\n",
    "\n",
    "With the `expanded` parameter, you can control how much to show by default:"
   ]
  },
  {
   "cell_type": "code",
   "id": "7659e360f770ceab",
   "metadata": {},
   "source": [
    "JSON(json_dict, expanded=True)"
   ],
   "outputs": [],
   "execution_count": null
  },
  {
   "cell_type": "markdown",
   "id": "32536237d491e70f",
   "metadata": {},
   "source": [
    "## Root\n",
    "\n",
    "With the `root` parameter, you can control the display name:"
   ]
  },
  {
   "cell_type": "code",
   "id": "3f85070c626b8d8f",
   "metadata": {},
   "source": [
    "JSON(json_dict, root=\"json_dict\")"
   ],
   "outputs": [],
   "execution_count": null
  },
  {
   "cell_type": "markdown",
   "id": "ed652ffb9714f6ae",
   "metadata": {},
   "source": [
    "## Pydantic\n",
    "\n",
    "This is also nice for **Pydantic** models! By default, they are rendered as plain text:"
   ]
  },
  {
   "cell_type": "code",
   "id": "cfb51d59e132581d",
   "metadata": {
    "tags": [
     "hide-input"
    ]
   },
   "source": [
    "from typing import Optional\n",
    "from pydantic import BaseModel\n",
    "\n",
    "\n",
    "class Model2(BaseModel):\n",
    "    key21: int\n",
    "    key22: bool\n",
    "    key23: Optional[str]\n",
    "\n",
    "\n",
    "class ExampleModel(BaseModel):\n",
    "    key1: str\n",
    "    key2: Model2\n",
    "    key3: list[str]"
   ],
   "outputs": [],
   "execution_count": null
  },
  {
   "cell_type": "code",
   "id": "b75220850f01881",
   "metadata": {},
   "source": [
    "example_model = ExampleModel(**json_dict)\n",
    "example_model"
   ],
   "outputs": [],
   "execution_count": null
  },
  {
   "cell_type": "code",
   "id": "ca7cd38c9589f5d5",
   "metadata": {},
   "source": [
    "JSON(example_model.model_dump(mode=\"json\"))"
   ],
   "outputs": [],
   "execution_count": null
  },
  {
   "cell_type": "markdown",
   "id": "58c778876c5b43d6",
   "metadata": {},
   "source": [
    "As a bonus, MyST-NB has been designed that despite the simplified rendering, when you **select and copy** the text, it will include valid JSON."
   ]
  }
 ],
 "metadata": {
  "kernelspec": {
   "display_name": "Python 3 (ipykernel)",
   "language": "python",
   "name": "python3"
  },
  "language_info": {
   "codemirror_mode": {
    "name": "ipython",
    "version": 3
   },
   "file_extension": ".py",
   "mimetype": "text/x-python",
   "name": "python",
   "nbconvert_exporter": "python",
   "pygments_lexer": "ipython3",
   "version": "3.9.19"
  }
 },
 "nbformat": 4,
 "nbformat_minor": 5
}
