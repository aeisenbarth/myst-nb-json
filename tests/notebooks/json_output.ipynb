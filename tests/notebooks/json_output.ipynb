{
 "cells": [
  {
   "metadata": {},
   "cell_type": "code",
   "source": [
    "from IPython.display import JSON\n",
    "\n",
    "JSON(\n",
    "    {\n",
    "        \"key1\": \"value1\",\n",
    "        \"key2\": {\n",
    "            \"key21\": \"str\",\n",
    "            \"key22\": 42,\n",
    "            \"key23\": 3.14,\n",
    "            \"key24\": True,\n",
    "            \"key25\": False,\n",
    "            \"key26\": None,\n",
    "            \"key27\": {},\n",
    "            \"key28\": [],\n",
    "        },\n",
    "        \"key3\": [\"str\", 42, 3.14, True, False, None, {}, []],\n",
    "    },\n",
    "    root=\"test\",\n",
    "    expanded=True,\n",
    ")"
   ],
   "id": "initial_id",
   "outputs": [],
   "execution_count": null
  }
 ],
 "metadata": {
  "kernelspec": {
   "display_name": "Python 3 (ipykernel)",
   "language": "python",
   "name": "python3"
  },
  "language_info": {
   "codemirror_mode": {
    "name": "ipython",
    "version": 3
   },
   "file_extension": ".py",
   "mimetype": "text/x-python",
   "name": "python",
   "nbconvert_exporter": "python",
   "pygments_lexer": "ipython3",
   "version": "3.9.19"
  }
 },
 "nbformat": 4,
 "nbformat_minor": 5
}
